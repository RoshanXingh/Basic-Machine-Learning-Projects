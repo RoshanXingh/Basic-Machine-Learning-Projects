{
 "cells": [
  {
   "cell_type": "markdown",
   "metadata": {},
   "source": [
    "# Importing libraries"
   ]
  },
  {
   "cell_type": "code",
   "execution_count": 53,
   "metadata": {},
   "outputs": [],
   "source": [
    "import codecs\n",
    "import re\n",
    "import pandas as pd\n",
    "import emoji as emj"
   ]
  },
  {
   "cell_type": "markdown",
   "metadata": {},
   "source": [
    "### Reading file "
   ]
  },
  {
   "cell_type": "code",
   "execution_count": 91,
   "metadata": {},
   "outputs": [],
   "source": [
    "file = 'D:\\Dev\\Machine Learning Projects\\Chat Analyzer\\WhatsApp.txt'\n",
    "e_types = [\"utf8\", \"cp1252\"]\n",
    "for encoding in e_types:\n",
    "    with codecs.open(file, encoding = encoding, errors = 'replace') as f:\n",
    "        data = f.read()\n",
    "        data = ' '.join(data.split('\\n'))"
   ]
  },
  {
   "cell_type": "markdown",
   "metadata": {},
   "source": [
    "### DateTime and message splitting "
   ]
  },
  {
   "cell_type": "code",
   "execution_count": 92,
   "metadata": {},
   "outputs": [],
   "source": [
    "pattern = '\\d{1,2}/\\d{1,2}/\\d{2,4},\\s\\d{1,2}:\\d{2}\\s-\\s'\n",
    "msg = re.split(pattern, data)[1:]\n",
    "date = re.findall(pattern, data)"
   ]
  },
  {
   "cell_type": "markdown",
   "metadata": {},
   "source": [
    "### Create Dataframe"
   ]
  },
  {
   "cell_type": "code",
   "execution_count": 93,
   "metadata": {},
   "outputs": [],
   "source": [
    "df = pd.DataFrame({\n",
    "    'user_messages': msg,\n",
    "    'date': date\n",
    "})\n"
   ]
  },
  {
   "cell_type": "markdown",
   "metadata": {},
   "source": [
    "### Seprate message and username"
   ]
  },
  {
   "cell_type": "code",
   "execution_count": 94,
   "metadata": {
    "scrolled": true
   },
   "outputs": [
    {
     "data": {
      "text/html": [
       "<div>\n",
       "<style scoped>\n",
       "    .dataframe tbody tr th:only-of-type {\n",
       "        vertical-align: middle;\n",
       "    }\n",
       "\n",
       "    .dataframe tbody tr th {\n",
       "        vertical-align: top;\n",
       "    }\n",
       "\n",
       "    .dataframe thead th {\n",
       "        text-align: right;\n",
       "    }\n",
       "</style>\n",
       "<table border=\"1\" class=\"dataframe\">\n",
       "  <thead>\n",
       "    <tr style=\"text-align: right;\">\n",
       "      <th></th>\n",
       "      <th>date</th>\n",
       "      <th>user</th>\n",
       "      <th>messages</th>\n",
       "    </tr>\n",
       "  </thead>\n",
       "  <tbody>\n",
       "    <tr>\n",
       "      <th>39994</th>\n",
       "      <td>31/05/21, 14:49 -</td>\n",
       "      <td>nihal (divine)</td>\n",
       "      <td>Aao @917607534265</td>\n",
       "    </tr>\n",
       "    <tr>\n",
       "      <th>39995</th>\n",
       "      <td>31/05/21, 14:51 -</td>\n",
       "      <td>Neta Jii</td>\n",
       "      <td>Lunth @917607534265</td>\n",
       "    </tr>\n",
       "    <tr>\n",
       "      <th>39996</th>\n",
       "      <td>31/05/21, 14:58 -</td>\n",
       "      <td>Roshan</td>\n",
       "      <td>à¤…à¤°à¥‡ à¤šà¤¾à¤°à¥�à¤œ à¤¨à¤¹à¥€à¤‚ à¤¹à¥ˆà¥¤</td>\n",
       "    </tr>\n",
       "    <tr>\n",
       "      <th>39997</th>\n",
       "      <td>31/05/21, 14:58 -</td>\n",
       "      <td>Roshan</td>\n",
       "      <td>à¤…à¤­à¥€ à¤•à¥‹ à¥ªà¥¦ à¤¹à¥�à¤† à¤¹à¥ˆà¥¤</td>\n",
       "    </tr>\n",
       "    <tr>\n",
       "      <th>39998</th>\n",
       "      <td>31/05/21, 15:15 -</td>\n",
       "      <td>Roshan</td>\n",
       "      <td>&lt;Media omitted&gt;</td>\n",
       "    </tr>\n",
       "  </tbody>\n",
       "</table>\n",
       "</div>"
      ],
      "text/plain": [
       "                     date            user  \\\n",
       "39994  31/05/21, 14:49 -   nihal (divine)   \n",
       "39995  31/05/21, 14:51 -         Neta Jii   \n",
       "39996  31/05/21, 14:58 -           Roshan   \n",
       "39997  31/05/21, 14:58 -           Roshan   \n",
       "39998  31/05/21, 15:15 -           Roshan   \n",
       "\n",
       "                                                messages  \n",
       "39994                                 Aao @917607534265   \n",
       "39995                               Lunth @917607534265   \n",
       "39996  à¤…à¤°à¥‡ à¤šà¤¾à¤°à¥�à¤œ à¤¨à¤¹à¥€à¤‚ à¤¹à¥ˆà¥¤   \n",
       "39997       à¤…à¤­à¥€ à¤•à¥‹ à¥ªà¥¦ à¤¹à¥�à¤† à¤¹à¥ˆà¥¤   \n",
       "39998                                   <Media omitted>   "
      ]
     },
     "execution_count": 94,
     "metadata": {},
     "output_type": "execute_result"
    }
   ],
   "source": [
    "user = []\n",
    "messages = []\n",
    "for message in df['user_messages']:\n",
    "    entry = re.split('([\\w\\W]+?):\\s', message)\n",
    "    if entry[1:]:\n",
    "        user.append(entry[1])\n",
    "        messages.append(entry[2])\n",
    "        \n",
    "    else:\n",
    "        user.append('group_notification')\n",
    "        messages.append(entry[0])\n",
    "              \n",
    "df['user'] = user\n",
    "df['messages'] = messages\n",
    "df.drop(columns = ['user_messages'], inplace = True)\n",
    "\n",
    "df.tail() "
   ]
  },
  {
   "cell_type": "code",
   "execution_count": 95,
   "metadata": {},
   "outputs": [
    {
     "name": "stdout",
     "output_type": "stream",
     "text": [
      "6889\n"
     ]
    }
   ],
   "source": [
    "image = df[df['messages'] ==  '<Media omitted> ']\n",
    "print(len(image))"
   ]
  },
  {
   "cell_type": "markdown",
   "metadata": {},
   "source": [
    "### Cleaning Data "
   ]
  },
  {
   "cell_type": "code",
   "execution_count": 98,
   "metadata": {
    "scrolled": false
   },
   "outputs": [
    {
     "name": "stdout",
     "output_type": "stream",
     "text": [
      "6889\n"
     ]
    },
    {
     "data": {
      "text/html": [
       "<div>\n",
       "<style scoped>\n",
       "    .dataframe tbody tr th:only-of-type {\n",
       "        vertical-align: middle;\n",
       "    }\n",
       "\n",
       "    .dataframe tbody tr th {\n",
       "        vertical-align: top;\n",
       "    }\n",
       "\n",
       "    .dataframe thead th {\n",
       "        text-align: right;\n",
       "    }\n",
       "</style>\n",
       "<table border=\"1\" class=\"dataframe\">\n",
       "  <thead>\n",
       "    <tr style=\"text-align: right;\">\n",
       "      <th></th>\n",
       "      <th>date</th>\n",
       "      <th>user</th>\n",
       "      <th>messages</th>\n",
       "    </tr>\n",
       "  </thead>\n",
       "  <tbody>\n",
       "    <tr>\n",
       "      <th>39809</th>\n",
       "      <td>31/05/21, 14:49 -</td>\n",
       "      <td>nihal (divine)</td>\n",
       "      <td>Aao @917607534265</td>\n",
       "    </tr>\n",
       "    <tr>\n",
       "      <th>39810</th>\n",
       "      <td>31/05/21, 14:51 -</td>\n",
       "      <td>Neta Jii</td>\n",
       "      <td>Lunth @917607534265</td>\n",
       "    </tr>\n",
       "    <tr>\n",
       "      <th>39811</th>\n",
       "      <td>31/05/21, 14:58 -</td>\n",
       "      <td>Roshan</td>\n",
       "      <td>à¤…à¤°à¥‡ à¤šà¤¾à¤°à¥�à¤œ à¤¨à¤¹à¥€à¤‚ à¤¹à¥ˆà¥¤</td>\n",
       "    </tr>\n",
       "    <tr>\n",
       "      <th>39812</th>\n",
       "      <td>31/05/21, 14:58 -</td>\n",
       "      <td>Roshan</td>\n",
       "      <td>à¤…à¤­à¥€ à¤•à¥‹ à¥ªà¥¦ à¤¹à¥�à¤† à¤¹à¥ˆà¥¤</td>\n",
       "    </tr>\n",
       "    <tr>\n",
       "      <th>39813</th>\n",
       "      <td>31/05/21, 15:15 -</td>\n",
       "      <td>Roshan</td>\n",
       "      <td>&lt;Media omitted&gt;</td>\n",
       "    </tr>\n",
       "  </tbody>\n",
       "</table>\n",
       "</div>"
      ],
      "text/plain": [
       "                     date            user  \\\n",
       "39809  31/05/21, 14:49 -   nihal (divine)   \n",
       "39810  31/05/21, 14:51 -         Neta Jii   \n",
       "39811  31/05/21, 14:58 -           Roshan   \n",
       "39812  31/05/21, 14:58 -           Roshan   \n",
       "39813  31/05/21, 15:15 -           Roshan   \n",
       "\n",
       "                                                messages  \n",
       "39809                                 Aao @917607534265   \n",
       "39810                               Lunth @917607534265   \n",
       "39811  à¤…à¤°à¥‡ à¤šà¤¾à¤°à¥�à¤œ à¤¨à¤¹à¥€à¤‚ à¤¹à¥ˆà¥¤   \n",
       "39812       à¤…à¤­à¥€ à¤•à¥‹ à¥ªà¥¦ à¤¹à¥�à¤† à¤¹à¥ˆà¥¤   \n",
       "39813                                   <Media omitted>   "
      ]
     },
     "execution_count": 98,
     "metadata": {},
     "output_type": "execute_result"
    }
   ],
   "source": [
    "image = df[df['messages'] ==  '<Media omitted> ']\n",
    "print(len(image))\n",
    "#df.drop(image.index, inplace = True)\n",
    "\n",
    "notification = df[df['user'] == 'group_notification']\n",
    "len_notification = len(notification)\n",
    "df.drop(notification.index, inplace = True)\n",
    "\n",
    "df.reset_index(inplace = True, drop = True)\n",
    "#\n",
    "df.tail()"
   ]
  },
  {
   "cell_type": "code",
   "execution_count": 99,
   "metadata": {
    "scrolled": false
   },
   "outputs": [
    {
     "data": {
      "text/plain": [
       "user\n",
       "Neta Jii             9464\n",
       "nihal (divine)       9104\n",
       "Roshan               6290\n",
       "amit (divine)        4123\n",
       "Aditya (Alooo)       4059\n",
       "Sudhanshu Bhabhi     2238\n",
       "+91 84001 31805      1445\n",
       "RAJAT SRIVASTAVA     1386\n",
       "Aditya Pathak         789\n",
       "shivansh (kota)       529\n",
       "manish (Kota)         303\n",
       "raj(roshan frnd)       83\n",
       "Harikesh (Divine)       1\n",
       "Name: messages, dtype: int64"
      ]
     },
     "execution_count": 99,
     "metadata": {},
     "output_type": "execute_result"
    }
   ],
   "source": [
    "df.groupby('user')['messages'].count().sort_values(ascending = False)"
   ]
  },
  {
   "cell_type": "markdown",
   "metadata": {},
   "source": [
    "# Most active User "
   ]
  },
  {
   "cell_type": "code",
   "execution_count": 89,
   "metadata": {},
   "outputs": [
    {
     "data": {
      "text/plain": [
       "<AxesSubplot:xlabel='user'>"
      ]
     },
     "execution_count": 89,
     "metadata": {},
     "output_type": "execute_result"
    },
    {
     "data": {
      "image/png": "[encoded data removed]",
      "text/plain": [
       "<Figure size 432x288 with 1 Axes>"
      ]
     },
     "metadata": {
      "needs_background": "light"
     },
     "output_type": "display_data"
    }
   ],
   "source": [
    "df.groupby('user')['messages'].count().sort_values(ascending = False).plot(kind = \"bar\")"
   ]
  },
  {
   "cell_type": "markdown",
   "metadata": {},
   "source": [
    "# Most Used Word "
   ]
  },
  {
   "cell_type": "code",
   "execution_count": 8,
   "metadata": {},
   "outputs": [
    {
     "data": {
      "text/plain": [
       "[('bhai', 2209),\n",
       " ('@919935027908', 1695),\n",
       " ('@919936350601', 1232),\n",
       " ('@917607534265', 1049),\n",
       " ('aao', 1013),\n",
       " ('abe', 998),\n",
       " ('bsdk', 968),\n",
       " ('@919198541932', 806),\n",
       " ('amit', 793),\n",
       " ('ek', 691)]"
      ]
     },
     "execution_count": 8,
     "metadata": {},
     "output_type": "execute_result"
    }
   ],
   "source": [
    "from collections import Counter\n",
    "all_words = ' '\n",
    "count = Counter()\n",
    "for msg in df['messages'].values:\n",
    "    words = str(msg).lower()\n",
    "    all_words = all_words + str(words) + ' '\n",
    "        \n",
    "count.update(all_words.split())\n",
    "\n",
    "common_word = ['hai', 'ke', 'ho', 'ka', 'to', 'me', 'se', 'bhi', 'ko', 'nhi', 'nahi', 'hi', 'ki', 'h', 'rhe', \n",
    "               'tha', 'ye', 'the', 'tm', 'aa', 'do', 'be', 'rha', 'tum', 'kar', 'ha', 'hm', 'kr', 'kya','toh']\n",
    "for w in common_word:\n",
    "    del count[w]\n",
    "    \n",
    "count.most_common(10)"
   ]
  },
  {
   "cell_type": "code",
   "execution_count": 52,
   "metadata": {},
   "outputs": [
    {
     "name": "stdout",
     "output_type": "stream",
     "text": [
      "bahinchod    :    25\n",
      "bhaduachod    :    52\n",
      "betichod    :    259\n",
      "chutiya    :    257\n",
      "madharchod    :    113\n",
      "bhosadi    :    244\n",
      "chut    :    235\n",
      "bsdk    :    968\n",
      "bhosada    :    25\n",
      "bhosda    :    125\n",
      "<Media omitted>    :    0\n"
     ]
    }
   ],
   "source": [
    "gali = ['bahinchod', 'bhaduachod', 'betichod', 'chutiya', 'madharchod', 'bhosadi', 'chut', 'bsdk', 'bhosada', 'bhosda', '<Media omitted>']\n",
    "for g in gali:\n",
    "    print(str(g) + \"    :    \" + str(count[g]))"
   ]
  },
  {
   "cell_type": "markdown",
   "metadata": {},
   "source": [
    "# Time "
   ]
  },
  {
   "cell_type": "code",
   "execution_count": 10,
   "metadata": {},
   "outputs": [
    {
     "data": {
      "text/plain": [
       "Text(0, 0.5, 'messages')"
      ]
     },
     "execution_count": 10,
     "metadata": {},
     "output_type": "execute_result"
    },
    {
     "data": {
      "image/png": "[encoded data removed]",
      "text/plain": [
       "<Figure size 720x360 with 1 Axes>"
      ]
     },
     "metadata": {
      "needs_background": "light"
     },
     "output_type": "display_data"
    }
   ],
   "source": [
    "import pandas as pd\n",
    "df['date'] = pd.to_datetime(df['date'], format='%d/%m/%y, %H:%M - ')\n",
    "df['hour'] = df['date'].apply(lambda x: x.hour)\n",
    "g = df.groupby(['hour']).size().sort_index().plot(kind = 'bar', figsize = (10, 5))\n",
    "g.set_xlabel(\"time\")\n",
    "g.set_ylabel(\"messages\")"
   ]
  },
  {
   "cell_type": "code",
   "execution_count": 11,
   "metadata": {},
   "outputs": [
    {
     "data": {
      "image/png": "[encoded data removed]",
      "text/plain": [
       "<Figure size 1080x360 with 1 Axes>"
      ]
     },
     "metadata": {
      "needs_background": "light"
     },
     "output_type": "display_data"
    }
   ],
   "source": [
    "df['d'] = df['date'].apply(lambda x: x.day)\n",
    "g = df.groupby(['d']).size().sort_index().plot(kind = \"bar\", figsize = (15,5), title = \"most active day of month\")"
   ]
  },
  {
   "cell_type": "code",
   "execution_count": 12,
   "metadata": {},
   "outputs": [
    {
     "data": {
      "text/plain": [
       "<AxesSubplot:title={'center':'most active day'}, xlabel='day'>"
      ]
     },
     "execution_count": 12,
     "metadata": {},
     "output_type": "execute_result"
    },
    {
     "data": {
      "image/png": "[encoded data removed]",
      "text/plain": [
       "<Figure size 720x432 with 1 Axes>"
      ]
     },
     "metadata": {
      "needs_background": "light"
     },
     "output_type": "display_data"
    }
   ],
   "source": [
    "df['day'] = df['date'].apply(lambda x: x.date())\n",
    "date = df.groupby(['day']).size().sort_values(ascending = False)\n",
    "date[:10].plot(kind = \"bar\", figsize = (10,6), title = \"most active day\")"
   ]
  },
  {
   "cell_type": "code",
   "execution_count": 13,
   "metadata": {
    "scrolled": true
   },
   "outputs": [
    {
     "data": {
      "text/plain": [
       "<AxesSubplot:title={'center':'most active day of week'}, xlabel='weekday'>"
      ]
     },
     "execution_count": 13,
     "metadata": {},
     "output_type": "execute_result"
    },
    {
     "data": {
      "image/png": "[encoded data removed]",
      "text/plain": [
       "<Figure size 720x432 with 1 Axes>"
      ]
     },
     "metadata": {
      "needs_background": "light"
     },
     "output_type": "display_data"
    }
   ],
   "source": [
    "df['weekday'] = df['date'].apply(lambda x: x.date().weekday())\n",
    "weekday = df.groupby(['weekday']).size().sort_values()\n",
    "weekday.plot(kind = \"line\", figsize = (10,6), title = \"most active day of week\")"
   ]
  },
  {
   "cell_type": "code",
   "execution_count": 27,
   "metadata": {},
   "outputs": [
    {
     "name": "stdout",
     "output_type": "stream",
     "text": [
      "à¤…à¤­à¥€ à¤•à¥‹ à¥ªà¥¦ à¤¹à¥�à¤† à¤¹à¥ˆà¥¤ \n"
     ]
    }
   ],
   "source": [
    "emoji = []\n",
    "em = df['messages'].apply(str)\n",
    "for e in em:\n",
    "    if e in emj.UNICODE_EMOJI_ALIAS_ENGLISH:\n",
    "        emoji.append(e)\n",
    "        \n",
    "print(e)"
   ]
  }
 ],
 "metadata": {
  "kernelspec": {
   "display_name": "Python 3",
   "language": "python",
   "name": "python3"
  },
  "language_info": {
   "codemirror_mode": {
    "name": "ipython",
    "version": 3
   },
   "file_extension": ".py",
   "mimetype": "text/x-python",
   "name": "python",
   "nbconvert_exporter": "python",
   "pygments_lexer": "ipython3",
   "version": "3.8.8"
  }
 },
 "nbformat": 4,
 "nbformat_minor": 4
}
