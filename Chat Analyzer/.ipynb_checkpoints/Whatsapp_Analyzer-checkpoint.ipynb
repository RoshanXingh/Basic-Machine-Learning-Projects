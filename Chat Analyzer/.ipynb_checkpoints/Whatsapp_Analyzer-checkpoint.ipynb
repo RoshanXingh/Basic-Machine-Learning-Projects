{
 "cells": [
  {
   "cell_type": "markdown",
   "metadata": {},
   "source": [
    "# Importing libraries"
   ]
  },
  {
   "cell_type": "code",
   "execution_count": 1,
   "metadata": {},
   "outputs": [],
   "source": [
    "import codecs\n",
    "import re\n",
    "import pandas as pd"
   ]
  },
  {
   "cell_type": "markdown",
   "metadata": {},
   "source": [
    "### Reading file "
   ]
  },
  {
   "cell_type": "code",
   "execution_count": 2,
   "metadata": {},
   "outputs": [],
   "source": [
    "file = 'D:\\Dev\\Machine Learning Projects\\Chat Analyzer\\WhatsApp1.txt'\n",
    "e_types = [\"utf8\", \"cp1252\"]\n",
    "for encoding in e_types:\n",
    "    with codecs.open(file, encoding = encoding, errors = 'replace') as f:\n",
    "        data = f.read()\n",
    "        data = ' '.join(data.split('\\n'))"
   ]
  },
  {
   "cell_type": "markdown",
   "metadata": {},
   "source": [
    "### DateTime and message splitting "
   ]
  },
  {
   "cell_type": "code",
   "execution_count": 3,
   "metadata": {},
   "outputs": [],
   "source": [
    "pattern = '\\d{1,2}/\\d{1,2}/\\d{2,4},\\s\\d{1,2}:\\d{2}\\s-\\s'\n",
    "msg = re.split(pattern, data)[1:]\n",
    "date = re.findall(pattern, data)"
   ]
  },
  {
   "cell_type": "markdown",
   "metadata": {},
   "source": [
    "### Create Dataframe"
   ]
  },
  {
   "cell_type": "code",
   "execution_count": 4,
   "metadata": {},
   "outputs": [],
   "source": [
    "df = pd.DataFrame({\n",
    "    'user_messages': msg,\n",
    "    'date': date\n",
    "})\n"
   ]
  },
  {
   "cell_type": "markdown",
   "metadata": {},
   "source": [
    "### Seprate message and username"
   ]
  },
  {
   "cell_type": "code",
   "execution_count": 5,
   "metadata": {},
   "outputs": [
    {
     "data": {
      "text/html": [
       "<div>\n",
       "<style scoped>\n",
       "    .dataframe tbody tr th:only-of-type {\n",
       "        vertical-align: middle;\n",
       "    }\n",
       "\n",
       "    .dataframe tbody tr th {\n",
       "        vertical-align: top;\n",
       "    }\n",
       "\n",
       "    .dataframe thead th {\n",
       "        text-align: right;\n",
       "    }\n",
       "</style>\n",
       "<table border=\"1\" class=\"dataframe\">\n",
       "  <thead>\n",
       "    <tr style=\"text-align: right;\">\n",
       "      <th></th>\n",
       "      <th>date</th>\n",
       "      <th>user</th>\n",
       "      <th>messages</th>\n",
       "    </tr>\n",
       "  </thead>\n",
       "  <tbody>\n",
       "    <tr>\n",
       "      <th>39994</th>\n",
       "      <td>10/05/21, 12:51 -</td>\n",
       "      <td>Roshan</td>\n",
       "      <td>Hindi nahi English me hi bhejo</td>\n",
       "    </tr>\n",
       "    <tr>\n",
       "      <th>39995</th>\n",
       "      <td>10/05/21, 12:52 -</td>\n",
       "      <td>Roshan</td>\n",
       "      <td>Kya hai,</td>\n",
       "    </tr>\n",
       "    <tr>\n",
       "      <th>39996</th>\n",
       "      <td>10/05/21, 12:53 -</td>\n",
       "      <td>+91 84001 31805</td>\n",
       "      <td>Akshra singh bhojpuri film ki maal</td>\n",
       "    </tr>\n",
       "    <tr>\n",
       "      <th>39997</th>\n",
       "      <td>10/05/21, 12:53 -</td>\n",
       "      <td>RAJAT SRIVASTAVA</td>\n",
       "      <td>Achaa</td>\n",
       "    </tr>\n",
       "    <tr>\n",
       "      <th>39998</th>\n",
       "      <td>10/05/21, 12:53 -</td>\n",
       "      <td>amit (divine)</td>\n",
       "      <td>Bsdk tm logðŸ™„</td>\n",
       "    </tr>\n",
       "  </tbody>\n",
       "</table>\n",
       "</div>"
      ],
      "text/plain": [
       "                     date              user  \\\n",
       "39994  10/05/21, 12:51 -             Roshan   \n",
       "39995  10/05/21, 12:52 -             Roshan   \n",
       "39996  10/05/21, 12:53 -    +91 84001 31805   \n",
       "39997  10/05/21, 12:53 -   RAJAT SRIVASTAVA   \n",
       "39998  10/05/21, 12:53 -      amit (divine)   \n",
       "\n",
       "                                  messages  \n",
       "39994      Hindi nahi English me hi bhejo   \n",
       "39995                            Kya hai,   \n",
       "39996  Akshra singh bhojpuri film ki maal   \n",
       "39997                               Achaa   \n",
       "39998                     Bsdk tm logðŸ™„   "
      ]
     },
     "execution_count": 5,
     "metadata": {},
     "output_type": "execute_result"
    }
   ],
   "source": [
    "user = []\n",
    "messages = []\n",
    "for message in df['user_messages']:\n",
    "    entry = re.split('([\\w\\W]+?):\\s', message)\n",
    "    if entry[1:]:\n",
    "        user.append(entry[1])\n",
    "        messages.append(entry[2])\n",
    "        \n",
    "    else:\n",
    "        user.append('group_notification')\n",
    "        messages.append(entry[0])\n",
    "              \n",
    "df['user'] = user\n",
    "df['messages'] = messages\n",
    "df.drop(columns = ['user_messages'], inplace = True)\n",
    "\n",
    "df.tail() "
   ]
  },
  {
   "cell_type": "markdown",
   "metadata": {},
   "source": [
    "### Cleaning Data "
   ]
  },
  {
   "cell_type": "code",
   "execution_count": 6,
   "metadata": {
    "scrolled": true
   },
   "outputs": [],
   "source": [
    "image = df[df['messages'] == '<Media omitted> ']\n",
    "media = len(image)\n",
    "#print(media)\n",
    "df.drop(image.index, inplace = True)\n",
    "\n",
    "notification = df[df['user'] == 'group_notification']\n",
    "len_notification = len(notification)\n",
    "df.drop(notification.index, inplace = True)\n",
    "\n",
    "df.reset_index(inplace = True, drop = True)\n",
    "#df.tail()"
   ]
  },
  {
   "cell_type": "markdown",
   "metadata": {},
   "source": [
    "# Most active User "
   ]
  },
  {
   "cell_type": "code",
   "execution_count": 38,
   "metadata": {},
   "outputs": [
    {
     "data": {
      "text/plain": [
       "<AxesSubplot:xlabel='user'>"
      ]
     },
     "execution_count": 38,
     "metadata": {},
     "output_type": "execute_result"
    },
    {
     "data": {
      "image/png": "[encoded data removed]",
      "text/plain": [
       "<Figure size 432x288 with 1 Axes>"
      ]
     },
     "metadata": {
      "needs_background": "light"
     },
     "output_type": "display_data"
    }
   ],
   "source": [
    "df.groupby('user')['messages'].count().sort_values(ascending = False).plot(kind = \"bar\")"
   ]
  },
  {
   "cell_type": "markdown",
   "metadata": {},
   "source": [
    "# Most Used Word "
   ]
  },
  {
   "cell_type": "code",
   "execution_count": 41,
   "metadata": {},
   "outputs": [
    {
     "data": {
      "text/plain": [
       "[('bhai', 2060),\n",
       " ('@919935027908', 1678),\n",
       " ('@919936350601', 1185),\n",
       " ('abe', 1012),\n",
       " ('bsdk', 1010),\n",
       " ('@917607534265', 969),\n",
       " ('aao', 947),\n",
       " ('amit', 830),\n",
       " ('@919198541932', 747),\n",
       " ('gad', 680)]"
      ]
     },
     "execution_count": 41,
     "metadata": {},
     "output_type": "execute_result"
    }
   ],
   "source": [
    "from collections import Counter\n",
    "all_words = ' '\n",
    "count = Counter()\n",
    "for msg in df['messages'].values:\n",
    "    words = str(msg).lower()\n",
    "    all_words = all_words + str(words) + ' '\n",
    "        \n",
    "count.update(all_words.split())\n",
    "\n",
    "common_word = ['hai', 'ke', 'ho', 'ka', 'to', 'me', 'se', 'bhi', 'ko', 'nhi', 'nahi', 'hi', 'ki', 'h', 'rhe', \n",
    "               'tha', 'ye', 'the', 'tm', 'aa', 'do', 'be', 'rha', 'tum', 'kar', 'ha', 'hm', 'kr', 'kya','toh']\n",
    "for w in common_word:\n",
    "    del count[w]\n",
    "    \n",
    "count.most_common(10)"
   ]
  },
  {
   "cell_type": "code",
   "execution_count": 19,
   "metadata": {},
   "outputs": [
    {
     "name": "stdout",
     "output_type": "stream",
     "text": [
      "bahinchod    :    21\n",
      "bhaduachod    :    54\n",
      "betichod    :    294\n",
      "chutiya    :    247\n",
      "madharchod    :    101\n",
      "bhosadi    :    212\n",
      "chut    :    232\n"
     ]
    }
   ],
   "source": [
    "gali = ['bahinchod', 'bhaduachod', 'betichod', 'chutiya', 'madharchod', 'bhosadi', 'chut']\n",
    "for g in gali:\n",
    "    print(str(g) + \"    :    \" + str(count[g]))"
   ]
  },
  {
   "cell_type": "markdown",
   "metadata": {},
   "source": [
    "# Time "
   ]
  },
  {
   "cell_type": "code",
   "execution_count": 51,
   "metadata": {},
   "outputs": [
    {
     "data": {
      "text/plain": [
       "Text(0, 0.5, 'messages')"
      ]
     },
     "execution_count": 51,
     "metadata": {},
     "output_type": "execute_result"
    },
    {
     "data": {
      "image/png": "[encoded data removed]",
      "text/plain": [
       "<Figure size 720x360 with 1 Axes>"
      ]
     },
     "metadata": {
      "needs_background": "light"
     },
     "output_type": "display_data"
    }
   ],
   "source": [
    "import pandas as pd\n",
    "df['date'] = pd.to_datetime(df['date'], format='%d/%m/%y, %H:%M - ')\n",
    "df['hour'] = df['date'].apply(lambda x: x.hour)\n",
    "g = df.groupby(['hour']).size().sort_index().plot(kind = 'bar', figsize = (10, 5))\n",
    "g.set_xlabel(\"time\")\n",
    "g.set_ylabel(\"messages\")"
   ]
  },
  {
   "cell_type": "code",
   "execution_count": 56,
   "metadata": {},
   "outputs": [
    {
     "data": {
      "image/png": "[encoded data removed]",
      "text/plain": [
       "<Figure size 1080x360 with 1 Axes>"
      ]
     },
     "metadata": {
      "needs_background": "light"
     },
     "output_type": "display_data"
    }
   ],
   "source": [
    "df['d'] = df['date'].apply(lambda x: x.day)\n",
    "g = df.groupby(['d']).size().sort_index().plot(kind = \"bar\", figsize = (15,5), title = \"most active day of month\")"
   ]
  },
  {
   "cell_type": "code",
   "execution_count": 72,
   "metadata": {},
   "outputs": [
    {
     "data": {
      "text/plain": [
       "<AxesSubplot:title={'center':'most active day'}, xlabel='day'>"
      ]
     },
     "execution_count": 72,
     "metadata": {},
     "output_type": "execute_result"
    },
    {
     "data": {
      "image/png": "[encoded data removed]",
      "text/plain": [
       "<Figure size 720x432 with 1 Axes>"
      ]
     },
     "metadata": {
      "needs_background": "light"
     },
     "output_type": "display_data"
    }
   ],
   "source": [
    "df['day'] = df['date'].apply(lambda x: x.date())\n",
    "date = df.groupby(['day']).size().sort_values(ascending = False)\n",
    "date[:10].plot(kind = \"bar\", figsize = (10,6), title = \"most active day\")"
   ]
  },
  {
   "cell_type": "code",
   "execution_count": 81,
   "metadata": {},
   "outputs": [
    {
     "data": {
      "text/plain": [
       "<AxesSubplot:title={'center':'most active day of week'}, xlabel='weekday'>"
      ]
     },
     "execution_count": 81,
     "metadata": {},
     "output_type": "execute_result"
    },
    {
     "data": {
      "image/png": "[encoded data removed]",
      "text/plain": [
       "<Figure size 720x432 with 1 Axes>"
      ]
     },
     "metadata": {
      "needs_background": "light"
     },
     "output_type": "display_data"
    }
   ],
   "source": [
    "df['weekday'] = df['date'].apply(lambda x: x.date().weekday())\n",
    "weekday = df.groupby(['weekday']).size().sort_values()\n",
    "weekday.plot(kind = \"line\", figsize = (10,6), title = \"most active day of week\")"
   ]
  }
 ],
 "metadata": {
  "kernelspec": {
   "display_name": "Python 3",
   "language": "python",
   "name": "python3"
  },
  "language_info": {
   "codemirror_mode": {
    "name": "ipython",
    "version": 3
   },
   "file_extension": ".py",
   "mimetype": "text/x-python",
   "name": "python",
   "nbconvert_exporter": "python",
   "pygments_lexer": "ipython3",
   "version": "3.8.8"
  }
 },
 "nbformat": 4,
 "nbformat_minor": 4
}
