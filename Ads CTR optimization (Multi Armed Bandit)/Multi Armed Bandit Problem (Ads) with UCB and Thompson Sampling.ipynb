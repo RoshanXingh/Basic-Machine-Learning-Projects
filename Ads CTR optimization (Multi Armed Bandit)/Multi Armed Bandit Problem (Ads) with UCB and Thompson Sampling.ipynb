{
 "cells": [
  {
   "cell_type": "code",
   "execution_count": 1,
   "id": "d3b37390",
   "metadata": {},
   "outputs": [],
   "source": [
    "import numpy as np\n",
    "import pandas as pd\n",
    "import matplotlib.pyplot as plt"
   ]
  },
  {
   "cell_type": "code",
   "execution_count": 2,
   "id": "93aa0714",
   "metadata": {},
   "outputs": [],
   "source": [
    "dataset = pd.read_csv(\"Ads_CTR_Optimisation.csv\")"
   ]
  },
  {
   "cell_type": "markdown",
   "id": "69c15371",
   "metadata": {},
   "source": [
    "## Upper Confidence Bound "
   ]
  },
  {
   "cell_type": "code",
   "execution_count": 46,
   "id": "5dd0f0f5",
   "metadata": {},
   "outputs": [],
   "source": [
    "import math\n",
    "N = 10000\n",
    "d = 10\n",
    "ads_selected = []\n",
    "number_of_selection = [0] * d\n",
    "sum_of_rewards = [0] * d\n",
    "total_reward = 0\n",
    "\n",
    "for n in range(N):               #loop for no of rounds of trials\n",
    "    ad = 0\n",
    "    max_upper_bound = 0\n",
    "    for i in range(1, d):            #loop to view result of each individual machines\n",
    "        \n",
    "        if(number_of_selection[i] > 0):                                                    #just to make sure every machines are explored once before exploitation\n",
    "            average_reward = sum_of_rewards[i] / number_of_selection[i]                    #maths for exploitation\n",
    "            delta_i = math.sqrt(3/2 * math.log(n+1) / number_of_selection[i])              #maths for exploration\n",
    "            upper_bound = average_reward + delta_i                                         #balancing exploration and exploitation\n",
    "            \n",
    "        else:\n",
    "            upper_bound = 1e400                #making upper bound of a machine infinity so that machine gets selected\n",
    "        \n",
    "        if(upper_bound > max_upper_bound):                        #for selecting best machine after each round\n",
    "            max_upper_bound = upper_bound\n",
    "            ad = i\n",
    "            \n",
    "    ads_selected.append(ad)                                     #selecting machine and append its number to list \n",
    "    number_of_selection[ad] += 1                                #for record of how many times a machine is selected\n",
    "    reward = dataset.values[n, ad]                              #selecting values from dataset because its already 1 for win and 0 for loss.\n",
    "    sum_of_rewards[ad] += reward                                #for record how many time any machine recived reward.\n",
    "    total_reward += reward\n",
    "    \n",
    "            \n",
    "            "
   ]
  },
  {
   "cell_type": "code",
   "execution_count": 47,
   "id": "e4f43c5b",
   "metadata": {},
   "outputs": [
    {
     "data": {
      "image/png": "[encoded data removed]",
      "text/plain": [
       "<Figure size 432x288 with 1 Axes>"
      ]
     },
     "metadata": {
      "needs_background": "light"
     },
     "output_type": "display_data"
    }
   ],
   "source": [
    "plt.hist(ads_selected, histtype = \"bar\", align = \"mid\")\n",
    "plt.title(\"ads selected\")\n",
    "plt.xlabel(\"ads\")\n",
    "plt.ylabel(\"times ads selected\")\n",
    "plt.show()"
   ]
  },
  {
   "cell_type": "markdown",
   "id": "4194d176",
   "metadata": {},
   "source": [
    "## Thompson Sampling "
   ]
  },
  {
   "cell_type": "code",
   "execution_count": 58,
   "id": "4b21261d",
   "metadata": {},
   "outputs": [],
   "source": [
    "import random\n",
    "\n",
    "N = 10000\n",
    "d = 10\n",
    "ads_selected = []\n",
    "number_of_reward_1 = [0] * d\n",
    "number_of_reward_0 = [0] * d\n",
    "total_rewards = 0\n",
    "\n",
    "for n in range(N):\n",
    "    ad = 0\n",
    "    max_random = 0\n",
    "    \n",
    "    for i in range(d):\n",
    "        random_beta = random.betavariate(number_of_reward_1[i] + 1, number_of_reward_0[i] + 1)\n",
    "        \n",
    "        if (random_beta > max_random):\n",
    "            max_random = random_beta\n",
    "            ad = i\n",
    "            \n",
    "    ads_selected.append(ad)\n",
    "    reward = dataset.values[n, ad]\n",
    "    if (reward == 1):\n",
    "        number_of_reward_1[ad] += 1\n",
    "        \n",
    "    else:\n",
    "        number_of_reward_0[ad] += 1\n",
    "        \n",
    "    total_reward += reward"
   ]
  },
  {
   "cell_type": "code",
   "execution_count": 59,
   "id": "d00bf6a6",
   "metadata": {},
   "outputs": [
    {
     "data": {
      "image/png": "[encoded data removed]",
      "text/plain": [
       "<Figure size 432x288 with 1 Axes>"
      ]
     },
     "metadata": {
      "needs_background": "light"
     },
     "output_type": "display_data"
    }
   ],
   "source": [
    "plt.hist(ads_selected)\n",
    "plt.title(\"Ads Selected\")\n",
    "plt.xlabel(\"Ads\")\n",
    "plt.ylabel(\"Times ads selected\")\n",
    "plt.show()"
   ]
  },
  {
   "cell_type": "code",
   "execution_count": null,
   "id": "b075f14c",
   "metadata": {},
   "outputs": [],
   "source": []
  }
 ],
 "metadata": {
  "kernelspec": {
   "display_name": "Python 3",
   "language": "python",
   "name": "python3"
  },
  "language_info": {
   "codemirror_mode": {
    "name": "ipython",
    "version": 3
   },
   "file_extension": ".py",
   "mimetype": "text/x-python",
   "name": "python",
   "nbconvert_exporter": "python",
   "pygments_lexer": "ipython3",
   "version": "3.8.8"
  }
 },
 "nbformat": 4,
 "nbformat_minor": 5
}
